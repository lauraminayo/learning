{
  "nbformat": 4,
  "nbformat_minor": 0,
  "metadata": {
    "colab": {
      "name": "personality test",
      "provenance": [],
      "authorship_tag": "ABX9TyNYifE5brJlSKRSq1jfN7ql",
      "include_colab_link": true
    },
    "kernelspec": {
      "name": "python3",
      "display_name": "Python 3"
    },
    "language_info": {
      "name": "python"
    }
  },
  "cells": [
    {
      "cell_type": "markdown",
      "metadata": {
        "id": "view-in-github",
        "colab_type": "text"
      },
      "source": [
        "<a href=\"https://colab.research.google.com/github/lauraminayo/learning/blob/master/personality_test.ipynb\" target=\"_parent\"><img src=\"https://colab.research.google.com/assets/colab-badge.svg\" alt=\"Open In Colab\"/></a>"
      ]
    },
    {
      "cell_type": "code",
      "execution_count": 7,
      "metadata": {
        "colab": {
          "base_uri": "https://localhost:8080/"
        },
        "id": "eHbMz71g6WGz",
        "outputId": "95469963-190c-4720-bfef-1bc4c4d54988"
      },
      "outputs": [
        {
          "output_type": "stream",
          "name": "stdout",
          "text": [
            "Enter the number of books purchased: 6\n",
            "60 points awarded\n"
          ]
        }
      ],
      "source": [
        "x = int(input(\"Enter the number of books purchased: \"));\n",
        "points = []\n",
        "if x==0:\n",
        "   print(\"0 points awarded\");\n",
        "elif x==1:\n",
        "   print(\"6 points awarded\");\n",
        "elif x==2:\n",
        "   print(\"16 points awarded\");\n",
        "elif x==3:\n",
        "  print(\"32 points awarded\");\n",
        "elif x>=4:\n",
        "  print(\"60 points awarded\")      "
      ]
    }
  ]
}