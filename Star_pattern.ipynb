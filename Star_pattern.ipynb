{
  "nbformat": 4,
  "nbformat_minor": 0,
  "metadata": {
    "colab": {
      "name": "Star pattern",
      "provenance": [],
      "authorship_tag": "ABX9TyOODY6hdjJBVVNmU6C5+f55",
      "include_colab_link": true
    },
    "kernelspec": {
      "name": "python3",
      "display_name": "Python 3"
    },
    "language_info": {
      "name": "python"
    }
  },
  "cells": [
    {
      "cell_type": "markdown",
      "metadata": {
        "id": "view-in-github",
        "colab_type": "text"
      },
      "source": [
        "<a href=\"https://colab.research.google.com/github/lauraminayo/learning/blob/master/Star_pattern.ipynb\" target=\"_parent\"><img src=\"https://colab.research.google.com/assets/colab-badge.svg\" alt=\"Open In Colab\"/></a>"
      ]
    },
    {
      "cell_type": "markdown",
      "source": [
        "Printing a pattern in python\n",
        "\n"
      ],
      "metadata": {
        "id": "WovRm2lzFhcx"
      }
    },
    {
      "cell_type": "code",
      "source": [
        "# Printing a star pattern.\n",
        "\n",
        "for i in range(6):\n",
        "  for j in range(i+1):\n",
        "    print(\"* \",end=\"\")\n",
        "  print()\n",
        "\n",
        "for i in range(6):\n",
        "  for j in range(6-i):\n",
        "    print(\"* \",end=\"\")    \n",
        "  print()\n"
      ],
      "metadata": {
        "colab": {
          "base_uri": "https://localhost:8080/"
        },
        "id": "bBUdFkZHF7nM",
        "outputId": "e8967e3f-6af8-44f1-f791-f97cf0b543eb"
      },
      "execution_count": 3,
      "outputs": [
        {
          "output_type": "stream",
          "name": "stdout",
          "text": [
            "* \n",
            "* * \n",
            "* * * \n",
            "* * * * \n",
            "* * * * * \n",
            "* * * * * * \n",
            "* * * * * * \n",
            "* * * * * \n",
            "* * * * \n",
            "* * * \n",
            "* * \n",
            "* \n"
          ]
        }
      ]
    }
  ]
}