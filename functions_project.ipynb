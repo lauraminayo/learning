{
  "nbformat": 4,
  "nbformat_minor": 0,
  "metadata": {
    "colab": {
      "name": "functions project",
      "provenance": [],
      "authorship_tag": "ABX9TyN0lCTbKn4wh3v/IPxlk0It",
      "include_colab_link": true
    },
    "kernelspec": {
      "name": "python3",
      "display_name": "Python 3"
    },
    "language_info": {
      "name": "python"
    }
  },
  "cells": [
    {
      "cell_type": "markdown",
      "metadata": {
        "id": "view-in-github",
        "colab_type": "text"
      },
      "source": [
        "<a href=\"https://colab.research.google.com/github/lauraminayo/learning/blob/master/functions_project.ipynb\" target=\"_parent\"><img src=\"https://colab.research.google.com/assets/colab-badge.svg\" alt=\"Open In Colab\"/></a>"
      ]
    },
    {
      "cell_type": "markdown",
      "source": [
        "1. Write a python program that accepts principle,rate and time to calclulate simple interest. \n",
        "N/B The program should accept three arguments and return the simple interest."
      ],
      "metadata": {
        "id": "xTTxQrQ-Vn7e"
      }
    },
    {
      "cell_type": "code",
      "source": [
        "def simple_interest():\n",
        "  rate = int(input(\"rate = \"));\n",
        "  principle = int(input(\"principle = \"));\n",
        "  time = int(input(\"time in years = \"));\n",
        "  SI = round(principle * rate/100 * time)\n",
        "\n",
        "  print(\"The simple interest is \", SI)\n",
        "\n",
        "simple_interest()  \n"
      ],
      "metadata": {
        "colab": {
          "base_uri": "https://localhost:8080/"
        },
        "id": "GFnCE7qyWIPM",
        "outputId": "b33691b6-bd66-4d7e-b37d-6afde0897703"
      },
      "execution_count": 4,
      "outputs": [
        {
          "output_type": "stream",
          "name": "stdout",
          "text": [
            "rate = 5\n",
            "principle = 34000\n",
            "time in years = 2\n",
            "The simple interest is  3400\n"
          ]
        }
      ]
    },
    {
      "cell_type": "markdown",
      "source": [
        "2. Write a python program to sum up two integers. However if the sum is between 15 and 20,it will return 20, hence it will return the actual sum."
      ],
      "metadata": {
        "id": "DtSzvCi1YpWz"
      }
    },
    {
      "cell_type": "code",
      "source": [
        "def sum():\n",
        "  x = int(input(\"x = \"));\n",
        "  y = int(input(\"y = \"));\n",
        "  z = x + y;\n",
        "  if z >= 15 and z <=20:\n",
        "    return(20);\n",
        "  else:\n",
        "    print(z);  \n",
        "\n",
        "sum()\n"
      ],
      "metadata": {
        "colab": {
          "base_uri": "https://localhost:8080/"
        },
        "id": "P5zhYBokZEMb",
        "outputId": "6afcbe45-cc09-401c-d590-4113c0792bea"
      },
      "execution_count": 10,
      "outputs": [
        {
          "name": "stdout",
          "output_type": "stream",
          "text": [
            "x = 6\n",
            "y = 12\n"
          ]
        },
        {
          "output_type": "execute_result",
          "data": {
            "text/plain": [
              "20"
            ]
          },
          "metadata": {},
          "execution_count": 10
        }
      ]
    }
  ]
}