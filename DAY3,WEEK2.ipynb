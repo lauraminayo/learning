{
  "nbformat": 4,
  "nbformat_minor": 0,
  "metadata": {
    "colab": {
      "name": "DAY3,WEEK2",
      "provenance": [],
      "collapsed_sections": [],
      "include_colab_link": true
    },
    "kernelspec": {
      "name": "python3",
      "display_name": "Python 3"
    },
    "language_info": {
      "name": "python"
    }
  },
  "cells": [
    {
      "cell_type": "markdown",
      "metadata": {
        "id": "view-in-github",
        "colab_type": "text"
      },
      "source": [
        "<a href=\"https://colab.research.google.com/github/lauraminayo/learning/blob/master/DAY3%2CWEEK2.ipynb\" target=\"_parent\"><img src=\"https://colab.research.google.com/assets/colab-badge.svg\" alt=\"Open In Colab\"/></a>"
      ]
    },
    {
      "cell_type": "markdown",
      "source": [
        "1. Write a Python program to find those numbers which are divisible by 7 and multiple of 5, between 1500 and 2700 (both included)."
      ],
      "metadata": {
        "id": "egPsfNNIXcyX"
      }
    },
    {
      "cell_type": "code",
      "source": [
        "number = []\n",
        "for x in range(1500, 2701):\n",
        "  if (x%7==0) and (x%5==0):\n",
        "    number.append(str(x))\n",
        "print (','.join(number))           "
      ],
      "metadata": {
        "colab": {
          "base_uri": "https://localhost:8080/"
        },
        "id": "piuBvsa9Xp-P",
        "outputId": "37fb611d-4136-446f-cb63-b993b0730832"
      },
      "execution_count": null,
      "outputs": [
        {
          "output_type": "stream",
          "name": "stdout",
          "text": [
            "1505,1540,1575,1610,1645,1680,1715,1750,1785,1820,1855,1890,1925,1960,1995,2030,2065,2100,2135,2170,2205,2240,2275,2310,2345,2380,2415,2450,2485,2520,2555,2590,2625,2660,2695\n"
          ]
        }
      ]
    },
    {
      "cell_type": "markdown",
      "source": [
        "2.  Write a Python program to convert temperatures to and from celsius, fahrenheit.\n",
        "[ Formula : c/5 = f-32/9 [ where c = temperature in celsius and f = temperature in fahrenheit ]\n",
        "Expected Output :\n",
        "60°C is 140 in Fahrenheit\n",
        "45°F is 7 in Celsius"
      ],
      "metadata": {
        "id": "hNnImRkuYBwl"
      }
    },
    {
      "cell_type": "code",
      "source": [
        "temperature = input(\"Input the  temperature : \")\n",
        "degree = int(temperature[:-1])\n",
        "i_convention = temperature[-1]\n",
        "\n",
        "if i_convention.upper() == \"C\":\n",
        "  result = int(round((9 * degree) / 5 + 32))\n",
        "  o_convention = \"Fahrenheit\"\n",
        "elif i_convention. upper() == \"F\":\n",
        "  result = int(round((degree - 32) * 5 / 9))\n",
        "  o_convention = \"Celsius\"\n",
        "else:\n",
        "  print(\"Input proper convention.\")\n",
        "  quit()\n",
        "print(\"The temperature in\", o_convention, \"is\", result, \"degrees.\")"
      ],
      "metadata": {
        "colab": {
          "base_uri": "https://localhost:8080/"
        },
        "id": "hFIRjKzNaQSH",
        "outputId": "e8800e17-2434-4b0d-8b4c-3b3c773a6ce1"
      },
      "execution_count": null,
      "outputs": [
        {
          "output_type": "stream",
          "name": "stdout",
          "text": [
            "Input the  temperature : 55C\n",
            "The temperature in Fahrenheit is 131 degrees.\n"
          ]
        }
      ]
    }
  ]
}