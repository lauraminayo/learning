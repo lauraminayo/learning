{
  "nbformat": 4,
  "nbformat_minor": 0,
  "metadata": {
    "colab": {
      "name": "divisibility of arrays",
      "provenance": [],
      "authorship_tag": "ABX9TyPJU8QiKGvtOEm30wf8I/dT",
      "include_colab_link": true
    },
    "kernelspec": {
      "name": "python3",
      "display_name": "Python 3"
    },
    "language_info": {
      "name": "python"
    }
  },
  "cells": [
    {
      "cell_type": "markdown",
      "metadata": {
        "id": "view-in-github",
        "colab_type": "text"
      },
      "source": [
        "<a href=\"https://colab.research.google.com/github/lauraminayo/learning/blob/master/divisibility_of_arrays.ipynb\" target=\"_parent\"><img src=\"https://colab.research.google.com/assets/colab-badge.svg\" alt=\"Open In Colab\"/></a>"
      ]
    },
    {
      "cell_type": "code",
      "execution_count": 18,
      "metadata": {
        "colab": {
          "base_uri": "https://localhost:8080/"
        },
        "id": "Dz-w8pMhKykq",
        "outputId": "b4b32526-6200-45f5-e2be-9314325ab524"
      },
      "outputs": [
        {
          "output_type": "stream",
          "name": "stdout",
          "text": [
            "96\n"
          ]
        }
      ],
      "source": [
        "def solution(A):\n",
        "  sum = 0\n",
        "  for i in A:\n",
        "        if i % 4==0:\n",
        "            sum+=i\n",
        "  return sum\n",
        "    \n",
        "A={5,5,2,8,3,88}\n",
        "print(solution(A))\n"
      ]
    }
  ]
}