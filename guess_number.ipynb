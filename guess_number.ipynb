{
  "nbformat": 4,
  "nbformat_minor": 0,
  "metadata": {
    "colab": {
      "name": "guess number",
      "provenance": [],
      "authorship_tag": "ABX9TyNIHakgwfi0hph8CDRE7tbi",
      "include_colab_link": true
    },
    "kernelspec": {
      "name": "python3",
      "display_name": "Python 3"
    },
    "language_info": {
      "name": "python"
    }
  },
  "cells": [
    {
      "cell_type": "markdown",
      "metadata": {
        "id": "view-in-github",
        "colab_type": "text"
      },
      "source": [
        "<a href=\"https://colab.research.google.com/github/lauraminayo/learning/blob/master/guess_number.ipynb\" target=\"_parent\"><img src=\"https://colab.research.google.com/assets/colab-badge.svg\" alt=\"Open In Colab\"/></a>"
      ]
    },
    {
      "cell_type": "code",
      "execution_count": null,
      "metadata": {
        "colab": {
          "base_uri": "https://localhost:8080/"
        },
        "id": "oLh9LbYsXU1Q",
        "outputId": "b769d902-d443-44c2-e461-1d1b3303d2fa"
      },
      "outputs": [
        {
          "output_type": "stream",
          "name": "stdout",
          "text": [
            "Well guessed!\n"
          ]
        }
      ],
      "source": [
        "Guess = int(input(\"Guess a number between 1 and 9: \"))\n",
        "while Guess==7:\n",
        "  print(\"Well guessed!\")\n",
        "  break\n",
        "if Guess !=7:\n",
        "  print(\"Wrong guess! Try Again.\")\n"
      ]
    }
  ]
}